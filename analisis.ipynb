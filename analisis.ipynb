{
 "cells": [
  {
   "cell_type": "markdown",
   "metadata": {},
   "source": [
    "# Análisis de discurso\n",
    "Instalación de API de Anthropic para el análisis de datos con la tecnología de Sonnet (específicamente claude-3-sonnet-20240229)\n",
    "\n",
    "Lo primero es tomar la información de la clave secreta como variable de entorno a través de un input que protege la información privada de la API KEY"
   ]
  },
  {
   "cell_type": "code",
   "execution_count": null,
   "metadata": {},
   "outputs": [
    {
     "ename": "",
     "evalue": "",
     "output_type": "error",
     "traceback": [
      "\u001b[1;31mRunning cells with 'Python 3.12.8' requires the ipykernel package.\n",
      "\u001b[1;31mRun the following command to install 'ipykernel' into the Python environment. \n",
      "\u001b[1;31mCommand: '/usr/local/bin/python3.12 -m pip install ipykernel -U --user --force-reinstall'"
     ]
    }
   ],
   "source": [
    "# Instalar las bibliotecas necesarias\n",
    "%pip install anthropic"
   ]
  },
  {
   "cell_type": "code",
   "execution_count": null,
   "metadata": {},
   "outputs": [
    {
     "ename": "",
     "evalue": "",
     "output_type": "error",
     "traceback": [
      "\u001b[1;31mRunning cells with 'Python 3.12.8' requires the ipykernel package.\n",
      "\u001b[1;31mRun the following command to install 'ipykernel' into the Python environment. \n",
      "\u001b[1;31mCommand: '/usr/local/bin/python3.12 -m pip install ipykernel -U --user --force-reinstall'"
     ]
    }
   ],
   "source": [
    "# Importar las bibliotecas necesarias\n",
    "import os\n",
    "from anthropic import Client\n",
    "from IPython.display import display, HTML\n",
    "from google.colab import output\n",
    "\n",
    "# Interfaz para ingresar la API key\n",
    "def request_anthropic_api_key():\n",
    "    input_html = \"\"\"\n",
    "    \n",
    "        Proveer API Key\n",
    "        Por favor, ingrese su API key de Anthropics en el siguiente campo:\n",
    "        \n",
    "        \n",
    "    \n",
    "    \n",
    "    \"\"\"\n",
    "    display(HTML(input_html))\n",
    "\n",
    "# Callback para almacenar la API key en la variable de entorno\n",
    "def store_anthropic_api_key(api_key):\n",
    "    os.environ[\"ANTHROPIC_API_KEY\"] = api_key\n",
    "    print(\"API key almacenada correctamente en la variable de entorno.\")\n",
    "\n",
    "# Registrar la función en Google Colab\n",
    "output.register_callback('notebook.store_anthropic_api_key', store_anthropic_api_key)\n",
    "\n",
    "# Solicitar la API key al usuario\n",
    "request_anthropic_api_key()\n",
    "\n",
    "# Crear un cliente para la API\n",
    "client = Client(api_key=store_anthropic_api_key)"
   ]
  },
  {
   "cell_type": "code",
   "execution_count": null,
   "metadata": {},
   "outputs": [
    {
     "ename": "",
     "evalue": "",
     "output_type": "error",
     "traceback": [
      "\u001b[1;31mRunning cells with 'Python 3.12.8' requires the ipykernel package.\n",
      "\u001b[1;31mRun the following command to install 'ipykernel' into the Python environment. \n",
      "\u001b[1;31mCommand: '/usr/local/bin/python3.12 -m pip install ipykernel -U --user --force-reinstall'"
     ]
    }
   ],
   "source": [
    "from anthropic import Anthropic\n",
    "import os\n",
    "\n",
    "def analyze_cft_policy(law_text, ministry_docs):\n",
    "    \"\"\"\n",
    "    Analiza la ley de CFTs estatales y documentos ministeriales relacionados.\n",
    "    \"\"\"\n",
    "    client = Anthropic(api_key=os.environ[\"ANTHROPIC_API_KEY\"])\n",
    "\n",
    "    system_prompt = \"Analiza la Ley 20.910 sobre CFTs estatales y su implementación según documentos ministeriales.\"\n",
    "\n",
    "    user_message = f\"\"\"\n",
    "    Analiza los siguientes documentos:\n",
    "\n",
    "    LEY 20.910: {law_text}\n",
    "    DOCUMENTOS MINISTERIALES: {ministry_docs}\n",
    "    \n",
    "    Realiza un análisis considerando:\n",
    "    1. Marco legal y objetivos establecidos en Ley 20.910\n",
    "    2. Avances en implementación según Plan de Fortalecimiento\n",
    "    3. Cumplimiento de hitos y metas\n",
    "    4. Financiamiento y recursos asignados\n",
    "    5. Articulación territorial\n",
    "    6. Convenios y colaboraciones\n",
    "    7. Infraestructura y equipamiento\n",
    "    \n",
    "    Estructura obligatoria:\n",
    "    - Análisis del marco normativo\n",
    "    - Estado actual de implementación por región\n",
    "    - Cumplimiento de objetivos legales\n",
    "    - Evaluación del plan de fortalecimiento\n",
    "    - Brechas y desafíos pendientes\n",
    "    \n",
    "    Para cada sección:\n",
    "    - Citar artículos específicos de la ley\n",
    "    - Contrastar con datos ministeriales\n",
    "    - Identificar cumplimientos e incumplimientos\n",
    "    \"\"\"\n",
    "\n",
    "    response = client.messages.create(\n",
    "        model=\"claude-3-sonnet-20240229\",\n",
    "        max_tokens=4096,\n",
    "        system=system_prompt,\n",
    "        messages=[\n",
    "            {\"role\": \"user\", \"content\": user_message}\n",
    "        ]\n",
    "    )\n",
    "\n",
    "    return response.content[0].text\n",
    "\n",
    "def process_documents():\n",
    "    # Cargar documentos\n",
    "    with open(\"ley20910.txt\", \"r\") as f:\n",
    "        law_text = f.read()\n",
    "    \n",
    "    with open(\"documentos_mineduc.txt\", \"r\") as f:\n",
    "        ministry_docs = f.read()\n",
    "    \n",
    "    # Realizar análisis\n",
    "    analysis = analyze_cft_policy(law_text, ministry_docs)\n",
    "    \n",
    "    # Guardar resultados\n",
    "    with open(\"analisis_normativa_cft.txt\", \"w\") as f:\n",
    "        f.write(analysis)\n",
    "    \n",
    "    print(\"Análisis normativo completado\")\n",
    "\n",
    "if __name__ == \"__main__\":\n",
    "    process_documents()"
   ]
  }
 ],
 "metadata": {
  "kernelspec": {
   "display_name": "Python 3",
   "language": "python",
   "name": "python3"
  },
  "language_info": {
   "name": "python",
   "version": "3.12.8"
  }
 },
 "nbformat": 4,
 "nbformat_minor": 2
}
