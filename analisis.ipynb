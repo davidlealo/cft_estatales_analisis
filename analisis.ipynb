{
  "cells": [
    {
      "cell_type": "markdown",
      "metadata": {
        "id": "view-in-github",
        "colab_type": "text"
      },
      "source": [
        "<a href=\"https://colab.research.google.com/github/davidlealo/cft_estatales_analisis/blob/main/analisis.ipynb\" target=\"_parent\"><img src=\"https://colab.research.google.com/assets/colab-badge.svg\" alt=\"Open In Colab\"/></a>"
      ]
    },
    {
      "cell_type": "markdown",
      "metadata": {
        "id": "spwfYre6PDtL"
      },
      "source": [
        "# Análisis de discurso\n",
        "Instalación de API de Anthropic para el análisis de datos con la tecnología de Sonnet (específicamente claude-3-sonnet-20240229)\n",
        "\n",
        "Lo primero es tomar la información de la clave secreta como variable de entorno a través de un input que protege la información privada de la API KEY"
      ]
    },
    {
      "cell_type": "code",
      "execution_count": null,
      "metadata": {
        "id": "CzPCs9ehPDtO"
      },
      "outputs": [],
      "source": [
        "# Instalar las bibliotecas necesarias\n",
        "%pip install anthropic\n",
        "%pip install PyPDF2\n",
        "%pip install python-dotenv"
      ]
    },
    {
      "cell_type": "code",
      "source": [
        "import os\n",
        "from dotenv import load_dotenv\n",
        "from anthropic import Anthropic\n",
        "from IPython.display import display, HTML\n",
        "\n",
        "def setup_api_key():\n",
        "    \"\"\"Configura la API key de Anthropic desde .env o entrada manual\"\"\"\n",
        "\n",
        "    # Intenta cargar desde .env\n",
        "    load_dotenv()\n",
        "    api_key = os.getenv(\"ANTHROPIC_API_KEY\")\n",
        "\n",
        "    if not api_key:\n",
        "        # HTML para input manual\n",
        "        display(HTML(\"\"\"\n",
        "            <div style=\"margin: 20px; padding: 20px; border: 1px solid #ccc;\">\n",
        "                <h3>Anthropic API Key</h3>\n",
        "                <input type=\"password\" id=\"api_key\" style=\"width: 100%; padding: 5px;\">\n",
        "                <button onclick=\"\n",
        "                    var key = document.getElementById('api_key').value;\n",
        "                    google.colab.kernel.invokeFunction('notebook.store_key', [key]);\n",
        "                    \">Guardar API Key</button>\n",
        "            </div>\n",
        "        \"\"\"))\n",
        "\n",
        "        def store_key(key):\n",
        "            os.environ[\"ANTHROPIC_API_KEY\"] = key\n",
        "            return \"API key almacenada\"\n",
        "\n",
        "        output.register_callback('notebook.store_key', store_key)\n",
        "        return None\n",
        "\n",
        "    return Anthropic(api_key=api_key)\n",
        "\n",
        "# Uso:\n",
        "client = setup_api_key()"
      ],
      "metadata": {
        "id": "71vdydfgRgqS"
      },
      "execution_count": 16,
      "outputs": []
    },
    {
      "cell_type": "code",
      "source": [
        "import requests\n",
        "from bs4 import BeautifulSoup\n",
        "import PyPDF2\n",
        "from io import BytesIO\n",
        "from anthropic import Anthropic\n",
        "import os\n",
        "\n",
        "def download_and_process_documents():\n",
        "    try:\n",
        "        # URLs\n",
        "        law_url = \"https://www.bcn.cl/leychile/navegar?idNorma=1088775\"\n",
        "        ministry_url = \"https://educacionsuperior.mineduc.cl/cft-estatales/\"\n",
        "        pdf_url = \"https://educacionsuperior.mineduc.cl/wp-content/uploads/sites/49/2022/08/Plan-fortal-CFTE-VF.pdf\"\n",
        "\n",
        "        print(\"Descargando documentos...\")\n",
        "\n",
        "        # Descargar ley\n",
        "        law_response = requests.get(law_url)\n",
        "        law_soup = BeautifulSoup(law_response.text, 'html.parser')\n",
        "        law_content = law_soup.find('div', {'id': 'normaText'})\n",
        "        law_text = law_content.get_text() if law_content else \"No se pudo extraer el texto de la ley\"\n",
        "\n",
        "        # Descargar información ministerial\n",
        "        ministry_response = requests.get(ministry_url)\n",
        "        ministry_soup = BeautifulSoup(ministry_response.text, 'html.parser')\n",
        "        ministry_text = ministry_soup.get_text()\n",
        "\n",
        "        # Descargar PDF\n",
        "        pdf_response = requests.get(pdf_url)\n",
        "        pdf_file = BytesIO(pdf_response.content)\n",
        "        pdf_reader = PyPDF2.PdfReader(pdf_file)\n",
        "        pdf_text = \"\\n\".join(page.extract_text() for page in pdf_reader.pages)\n",
        "\n",
        "        print(\"Documentos descargados exitosamente\")\n",
        "        return law_text, f\"{ministry_text}\\n\\n{pdf_text}\"\n",
        "\n",
        "    except Exception as e:\n",
        "        print(f\"Error al descargar documentos: {str(e)}\")\n",
        "        return \"\", \"\"\n",
        "\n",
        "def analyze_cft_policy(law_text, ministry_docs):\n",
        "    if not os.environ.get(\"ANTHROPIC_API_KEY\"):\n",
        "        return \"Error: ANTHROPIC_API_KEY no encontrada\"\n",
        "\n",
        "    client = Anthropic(api_key=os.environ[\"ANTHROPIC_API_KEY\"])\n",
        "\n",
        "    system_prompt = \"Analiza la Ley 20.910 sobre CFTs estatales y su implementación según documentos ministeriales.\"\n",
        "\n",
        "    user_message = f\"\"\"\n",
        "    Analiza los siguientes documentos:\n",
        "\n",
        "    LEY 20.910: {law_text}\n",
        "    DOCUMENTOS MINISTERIALES: {ministry_docs}\n",
        "\n",
        "    Realiza un análisis considerando:\n",
        "    1. Marco legal y objetivos establecidos en Ley 20.910\n",
        "    2. Avances en implementación según Plan de Fortalecimiento\n",
        "    3. Cumplimiento de hitos y metas\n",
        "    4. Financiamiento y recursos asignados\n",
        "    5. Articulación territorial\n",
        "\n",
        "    Estructura obligatoria:\n",
        "    - Análisis del marco normativo\n",
        "    - Estado actual de implementación por región\n",
        "    - Cumplimiento de objetivos legales\n",
        "    - Evaluación del plan de fortalecimiento\n",
        "    - Brechas y desafíos pendientes\n",
        "    \"\"\"\n",
        "\n",
        "    try:\n",
        "        response = client.messages.create(\n",
        "            model=\"claude-3-sonnet-20240229\",\n",
        "            max_tokens=4096,\n",
        "            system=system_prompt,\n",
        "            messages=[{\"role\": \"user\", \"content\": user_message}]\n",
        "        )\n",
        "        return response.content[0].text\n",
        "    except Exception as e:\n",
        "        return f\"Error en el análisis: {str(e)}\"\n",
        "\n",
        "def main():\n",
        "    print(\"Iniciando análisis...\")\n",
        "    law_text, ministry_docs = download_and_process_documents()\n",
        "    analysis = analyze_cft_policy(law_text, ministry_docs)\n",
        "\n",
        "    with open(\"analisis_normativa_cft.txt\", \"w\", encoding='utf-8') as f:\n",
        "        f.write(analysis)\n",
        "    print(\"Análisis completado y guardado\")\n",
        "\n",
        "if __name__ == \"__main__\":\n",
        "    main()"
      ],
      "metadata": {
        "id": "W5E1l9dnQJfL",
        "outputId": "28ab8722-4b49-4a27-e88e-36a7f4242dc1",
        "colab": {
          "base_uri": "https://localhost:8080/"
        }
      },
      "execution_count": 17,
      "outputs": [
        {
          "output_type": "stream",
          "name": "stdout",
          "text": [
            "Iniciando análisis...\n",
            "Descargando documentos...\n",
            "Documentos descargados exitosamente\n"
          ]
        },
        {
          "output_type": "stream",
          "name": "stderr",
          "text": [
            "<ipython-input-17-463c1e1873f0>:71: DeprecationWarning: The model 'claude-3-sonnet-20240229' is deprecated and will reach end-of-life on July 21st, 2025.\n",
            "Please migrate to a newer model. Visit https://docs.anthropic.com/en/docs/resources/model-deprecations for more information.\n",
            "  response = client.messages.create(\n"
          ]
        },
        {
          "output_type": "stream",
          "name": "stdout",
          "text": [
            "Análisis completado y guardado\n"
          ]
        }
      ]
    },
    {
      "cell_type": "code",
      "source": [],
      "metadata": {
        "id": "fjUSIpHnTozQ"
      },
      "execution_count": null,
      "outputs": []
    }
  ],
  "metadata": {
    "kernelspec": {
      "display_name": "Python 3",
      "language": "python",
      "name": "python3"
    },
    "language_info": {
      "name": "python",
      "version": "3.12.8"
    },
    "colab": {
      "provenance": [],
      "include_colab_link": true
    }
  },
  "nbformat": 4,
  "nbformat_minor": 0
}